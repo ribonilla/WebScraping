{
 "cells": [
  {
   "cell_type": "markdown",
   "metadata": {},
   "source": [
    "# Librerías"
   ]
  },
  {
   "cell_type": "code",
   "execution_count": 1,
   "metadata": {},
   "outputs": [],
   "source": [
    "# Para acceder a contenido en la red mediante solicitudes (request)\n",
    "import requests\n",
    "# Para convertir a formato simple para la lectura\n",
    "from bs4 import BeautifulSoup"
   ]
  },
  {
   "cell_type": "markdown",
   "metadata": {},
   "source": [
    "# Ingresar a una pagina web"
   ]
  },
  {
   "cell_type": "markdown",
   "metadata": {},
   "source": [
    "## Lectura"
   ]
  },
  {
   "cell_type": "code",
   "execution_count": 2,
   "metadata": {},
   "outputs": [
    {
     "data": {
      "text/plain": [
       "200"
      ]
     },
     "execution_count": 2,
     "metadata": {},
     "output_type": "execute_result"
    }
   ],
   "source": [
    "page = requests.get(\"https://www.w3schools.com/w3css/tryw3css_examples_chardonney.htm\")\n",
    "page.status_code"
   ]
  },
  {
   "cell_type": "markdown",
   "metadata": {},
   "source": [
    "## Formato"
   ]
  },
  {
   "cell_type": "code",
   "execution_count": 3,
   "metadata": {},
   "outputs": [],
   "source": [
    "soup = BeautifulSoup(page.content, 'html.parser')"
   ]
  },
  {
   "cell_type": "code",
   "execution_count": 4,
   "metadata": {
    "jupyter": {
     "outputs_hidden": true
    }
   },
   "outputs": [
    {
     "name": "stdout",
     "output_type": "stream",
     "text": [
      "<!DOCTYPE html>\n",
      "<html>\n",
      " <title>\n",
      "  W3.CSS\n",
      " </title>\n",
      " <meta content=\"width=device-width, initial-scale=1\" name=\"viewport\"/>\n",
      " <link href=\"https://www.w3schools.com/w3css/4/w3.css\" rel=\"stylesheet\"/>\n",
      " <body>\n",
      "  <div class=\"w3-container w3-teal w3-margin-bottom\">\n",
      "   <h1>\n",
      "    White Wines- Chardonnay\n",
      "   </h1>\n",
      "   <a href=\"tryw3css_examples_sauvignon_blanc.htm\">\n",
      "    <span class=\"w3-left w3-xxlarge\">\n",
      "     «\n",
      "    </span>\n",
      "   </a>\n",
      "   <a href=\"tryw3css_examples_sauvignon_blanc.htm\">\n",
      "    <span class=\"w3-right w3-xxlarge\">\n",
      "     »\n",
      "    </span>\n",
      "   </a>\n",
      "  </div>\n",
      "  <div class=\"w3-row-padding\">\n",
      "   <div class=\"w3-twothird\">\n",
      "    <img src=\"img_chardonnay.jpg\" style=\"width:100%\"/>\n",
      "    <h2>\n",
      "     Food\n",
      "    </h2>\n",
      "    <table class=\"w3-table w3-striped w3-bordered w3-border\">\n",
      "     <thead class=\"w3-teal\">\n",
      "      <th style=\"width:30%\">\n",
      "       Food\n",
      "      </th>\n",
      "      <th>\n",
      "       Type\n",
      "      </th>\n",
      "     </thead>\n",
      "     <tr>\n",
      "      <td style=\"width:30%\">\n",
      "       Seafood\n",
      "      </td>\n",
      "      <td>\n",
      "       Shrimps, Crab, Lobster\n",
      "      </td>\n",
      "     </tr>\n",
      "     <tr>\n",
      "      <td>\n",
      "       Meat\n",
      "      </td>\n",
      "      <td>\n",
      "       Chicken, Pork\n",
      "      </td>\n",
      "     </tr>\n",
      "     <tr>\n",
      "      <td>\n",
      "       Cheese\n",
      "      </td>\n",
      "      <td>\n",
      "       Brie, Gruyere\n",
      "      </td>\n",
      "     </tr>\n",
      "     <tr>\n",
      "      <td>\n",
      "       Other\n",
      "      </td>\n",
      "      <td>\n",
      "       Cream sauces\n",
      "      </td>\n",
      "     </tr>\n",
      "    </table>\n",
      "    <h2>\n",
      "     Flavours\n",
      "    </h2>\n",
      "    <table class=\"w3-table w3-striped w3-bordered w3-border\">\n",
      "     <thead class=\"w3-teal\">\n",
      "      <th style=\"width:30%\">\n",
      "       Age\n",
      "      </th>\n",
      "      <th>\n",
      "       Flavor\n",
      "      </th>\n",
      "     </thead>\n",
      "     <tr>\n",
      "      <td>\n",
      "       Less Ripe\n",
      "      </td>\n",
      "      <td>\n",
      "       Green Plum, Green Apple, Pear\n",
      "      </td>\n",
      "     </tr>\n",
      "     <tr>\n",
      "      <td>\n",
      "       Medium\n",
      "      </td>\n",
      "      <td>\n",
      "       Lemon, Peach, Melon\n",
      "      </td>\n",
      "     </tr>\n",
      "     <tr>\n",
      "      <td>\n",
      "       More Ripe\n",
      "      </td>\n",
      "      <td>\n",
      "       Pineapple, Fig, Banana, Mango\n",
      "      </td>\n",
      "     </tr>\n",
      "     <tr>\n",
      "      <td>\n",
      "       Oaked\n",
      "      </td>\n",
      "      <td>\n",
      "       added Cream or Butter\n",
      "      </td>\n",
      "     </tr>\n",
      "    </table>\n",
      "    <h2>\n",
      "     Neighbours\n",
      "    </h2>\n",
      "    <table class=\"w3-table w3-striped w3-bordered w3-border\">\n",
      "     <thead class=\"w3-teal\">\n",
      "      <th style=\"width:30%\">\n",
      "       Neighbour\n",
      "      </th>\n",
      "      <th>\n",
      "       Flavour\n",
      "      </th>\n",
      "     </thead>\n",
      "     <tr>\n",
      "      <td>\n",
      "       Pinot Gris\n",
      "      </td>\n",
      "      <td>\n",
      "       Like under-riped Chardonnay\n",
      "      </td>\n",
      "     </tr>\n",
      "     <tr>\n",
      "      <td>\n",
      "       Semillion\n",
      "      </td>\n",
      "      <td>\n",
      "       Lighter with more lemon\n",
      "      </td>\n",
      "     </tr>\n",
      "     <tr>\n",
      "      <td>\n",
      "       Viognier\n",
      "      </td>\n",
      "      <td>\n",
      "       More Vanilla, Flowers or Perfume\n",
      "      </td>\n",
      "     </tr>\n",
      "    </table>\n",
      "   </div>\n",
      "   <div class=\"w3-third\">\n",
      "    <h1>\n",
      "     Chardonnay\n",
      "    </h1>\n",
      "    <p>\n",
      "     Chardonnay is the world's most popular wine grape.\n",
      "    </p>\n",
      "    <p>\n",
      "     The taste of the Chardonnay grape is very neutral and easy to like.\n",
      "    </p>\n",
      "    <p>\n",
      "     Many of the Chardonnay flavors are derived from terroir and oak-aging.\n",
      "    </p>\n",
      "    <p>\n",
      "     The flavors varies from noticeable acidity (Cold Climates), to crisply and mineral (Chablis, France) \r\n",
      "  with flavors of green plum, apple and pear, to heavy oak and tropical fruit flavors (the New World).\n",
      "    </p>\n",
      "    <p>\n",
      "     In cooler climates Chardonnay tends to be under-riped.\n",
      "    </p>\n",
      "    <p>\n",
      "     In warmer climates the flavors tend to vary from lemon to peach and melon.\n",
      "    </p>\n",
      "    <p>\n",
      "     In very warm climates Chardonnay tends to be over-riped.\n",
      "    </p>\n",
      "    <p>\n",
      "     Oaked Chardonnay tends to have softer acidity and more fruit flavors with \r\n",
      "  added butter, cream and hazelnut notes.\n",
      "    </p>\n",
      "   </div>\n",
      "  </div>\n",
      " </body>\n",
      "</html>\n"
     ]
    }
   ],
   "source": [
    "print(soup.prettify())"
   ]
  },
  {
   "cell_type": "markdown",
   "metadata": {},
   "source": [
    "El método ``children`` te da acceso a los elementos de la pagina\n",
    "    pero es un iterador para ver los elementos convertirlo en una lista ``list()``"
   ]
  },
  {
   "cell_type": "code",
   "execution_count": 5,
   "metadata": {},
   "outputs": [
    {
     "data": {
      "text/plain": [
       "<list_iterator at 0x1d7f0653a60>"
      ]
     },
     "execution_count": 5,
     "metadata": {},
     "output_type": "execute_result"
    }
   ],
   "source": [
    "soup.children"
   ]
  },
  {
   "cell_type": "code",
   "execution_count": 9,
   "metadata": {},
   "outputs": [
    {
     "data": {
      "text/plain": [
       "3"
      ]
     },
     "execution_count": 9,
     "metadata": {},
     "output_type": "execute_result"
    }
   ],
   "source": [
    "lista1 = list(soup.children)\n",
    "lista1\n",
    "len(lista1)"
   ]
  },
  {
   "cell_type": "markdown",
   "metadata": {},
   "source": [
    "## Para averiguar el tipo de elementos"
   ]
  },
  {
   "cell_type": "code",
   "execution_count": 11,
   "metadata": {},
   "outputs": [
    {
     "data": {
      "text/plain": [
       "[bs4.element.Doctype, bs4.element.NavigableString, bs4.element.Tag]"
      ]
     },
     "execution_count": 11,
     "metadata": {},
     "output_type": "execute_result"
    }
   ],
   "source": [
    "[type(item) for item in list(soup.children)]"
   ]
  },
  {
   "cell_type": "markdown",
   "metadata": {},
   "source": [
    "Todos son objetos de BeautifulSoup:\n",
    "1. Doctype object contiene características de los tipos.\n",
    "2. NavigableString contiene el texto del documento.\n",
    "3. Tag contiene las etiquetas del documento. Es útil para \"navegar\" en el documento.\n"
   ]
  },
  {
   "cell_type": "markdown",
   "metadata": {},
   "source": [
    "## El tercer elemento de la lista contiene los ``tag`` lo que permitirá apuntar a un contenidos específicos de la pagina."
   ]
  },
  {
   "cell_type": "code",
   "execution_count": 12,
   "metadata": {},
   "outputs": [],
   "source": [
    "# En python el primer elemento es el CERO por lo tanto el tercer elemento es el n=2\n",
    "html = list(soup.children)[2]"
   ]
  },
  {
   "cell_type": "markdown",
   "metadata": {
    "jupyter": {
     "outputs_hidden": true
    }
   },
   "source": [
    "Es posible continuar aplicando la función ``children`` a la variable html en la medida que esta sigue siendo un objeto ``bs4``"
   ]
  },
  {
   "cell_type": "code",
   "execution_count": 13,
   "metadata": {
    "jupyter": {
     "outputs_hidden": true
    }
   },
   "outputs": [
    {
     "data": {
      "text/plain": [
       "['\\n',\n",
       " <title>W3.CSS</title>,\n",
       " '\\n',\n",
       " <meta content=\"width=device-width, initial-scale=1\" name=\"viewport\"/>,\n",
       " '\\n',\n",
       " <link href=\"https://www.w3schools.com/w3css/4/w3.css\" rel=\"stylesheet\"/>,\n",
       " '\\n',\n",
       " <body>\n",
       " <div class=\"w3-container w3-teal w3-margin-bottom\">\n",
       " <h1>White Wines- Chardonnay</h1>\n",
       " <a href=\"tryw3css_examples_sauvignon_blanc.htm\"><span class=\"w3-left w3-xxlarge\">«</span></a>\n",
       " <a href=\"tryw3css_examples_sauvignon_blanc.htm\"><span class=\"w3-right w3-xxlarge\">»</span></a>\n",
       " </div>\n",
       " <div class=\"w3-row-padding\">\n",
       " <div class=\"w3-twothird\">\n",
       " <img src=\"img_chardonnay.jpg\" style=\"width:100%\"/>\n",
       " <h2>Food</h2>\n",
       " <table class=\"w3-table w3-striped w3-bordered w3-border\">\n",
       " <thead class=\"w3-teal\"><th style=\"width:30%\">Food</th><th>Type</th></thead>\n",
       " <tr><td style=\"width:30%\">Seafood</td><td>Shrimps, Crab, Lobster</td></tr>\n",
       " <tr><td>Meat</td><td>Chicken, Pork</td></tr>\n",
       " <tr><td>Cheese</td><td>Brie, Gruyere</td></tr>\n",
       " <tr><td>Other</td><td>Cream sauces</td></tr>\n",
       " </table>\n",
       " <h2>Flavours</h2>\n",
       " <table class=\"w3-table w3-striped w3-bordered w3-border\">\n",
       " <thead class=\"w3-teal\"><th style=\"width:30%\">Age</th><th>Flavor</th></thead>\n",
       " <tr><td>Less Ripe</td><td>Green Plum, Green Apple, Pear </td></tr>\n",
       " <tr><td>Medium</td><td>Lemon, Peach, Melon</td></tr>\n",
       " <tr><td>More Ripe</td><td>Pineapple, Fig, Banana, Mango</td></tr>\n",
       " <tr><td>Oaked</td><td>added Cream or Butter</td></tr>\n",
       " </table>\n",
       " <h2>Neighbours</h2>\n",
       " <table class=\"w3-table w3-striped w3-bordered w3-border\">\n",
       " <thead class=\"w3-teal\"><th style=\"width:30%\">Neighbour</th><th>Flavour</th></thead>\n",
       " <tr><td>Pinot Gris</td><td>Like under-riped Chardonnay </td></tr>\n",
       " <tr><td>Semillion</td><td>Lighter with more lemon</td></tr>\n",
       " <tr><td>Viognier</td><td>More Vanilla, Flowers or Perfume</td></tr>\n",
       " </table>\n",
       " </div>\n",
       " <div class=\"w3-third\">\n",
       " <h1>Chardonnay</h1>\n",
       " <p>Chardonnay is the world's most popular wine grape.</p>\n",
       " <p>The taste of the Chardonnay grape is very neutral and easy to like.</p>\n",
       " <p>Many of the Chardonnay flavors are derived from terroir and oak-aging.</p>\n",
       " <p>The flavors varies from noticeable acidity (Cold Climates), to crisply and mineral (Chablis, France) \n",
       "   with flavors of green plum, apple and pear, to heavy oak and tropical fruit flavors (the New World). </p>\n",
       " <p>In cooler climates Chardonnay tends to be under-riped. </p>\n",
       " <p>In warmer climates the flavors tend to vary from lemon to peach and melon.</p>\n",
       " <p>In very warm climates Chardonnay tends to be over-riped.</p>\n",
       " <p>Oaked Chardonnay tends to have softer acidity and more fruit flavors with \n",
       "   added butter, cream and hazelnut notes.</p>\n",
       " </div>\n",
       " </div>\n",
       " </body>,\n",
       " '\\n']"
      ]
     },
     "execution_count": 13,
     "metadata": {},
     "output_type": "execute_result"
    }
   ],
   "source": [
    "list(html.children)"
   ]
  },
  {
   "cell_type": "code",
   "execution_count": 16,
   "metadata": {},
   "outputs": [],
   "source": [
    "body = list(html.children)[7]"
   ]
  },
  {
   "cell_type": "code",
   "execution_count": 15,
   "metadata": {
    "jupyter": {
     "outputs_hidden": true
    }
   },
   "outputs": [
    {
     "data": {
      "text/plain": [
       "['\\n',\n",
       " <div class=\"w3-container w3-teal w3-margin-bottom\">\n",
       " <h1>White Wines- Chardonnay</h1>\n",
       " <a href=\"tryw3css_examples_sauvignon_blanc.htm\"><span class=\"w3-left w3-xxlarge\">«</span></a>\n",
       " <a href=\"tryw3css_examples_sauvignon_blanc.htm\"><span class=\"w3-right w3-xxlarge\">»</span></a>\n",
       " </div>,\n",
       " '\\n',\n",
       " <div class=\"w3-row-padding\">\n",
       " <div class=\"w3-twothird\">\n",
       " <img src=\"img_chardonnay.jpg\" style=\"width:100%\"/>\n",
       " <h2>Food</h2>\n",
       " <table class=\"w3-table w3-striped w3-bordered w3-border\">\n",
       " <thead class=\"w3-teal\"><th style=\"width:30%\">Food</th><th>Type</th></thead>\n",
       " <tr><td style=\"width:30%\">Seafood</td><td>Shrimps, Crab, Lobster</td></tr>\n",
       " <tr><td>Meat</td><td>Chicken, Pork</td></tr>\n",
       " <tr><td>Cheese</td><td>Brie, Gruyere</td></tr>\n",
       " <tr><td>Other</td><td>Cream sauces</td></tr>\n",
       " </table>\n",
       " <h2>Flavours</h2>\n",
       " <table class=\"w3-table w3-striped w3-bordered w3-border\">\n",
       " <thead class=\"w3-teal\"><th style=\"width:30%\">Age</th><th>Flavor</th></thead>\n",
       " <tr><td>Less Ripe</td><td>Green Plum, Green Apple, Pear </td></tr>\n",
       " <tr><td>Medium</td><td>Lemon, Peach, Melon</td></tr>\n",
       " <tr><td>More Ripe</td><td>Pineapple, Fig, Banana, Mango</td></tr>\n",
       " <tr><td>Oaked</td><td>added Cream or Butter</td></tr>\n",
       " </table>\n",
       " <h2>Neighbours</h2>\n",
       " <table class=\"w3-table w3-striped w3-bordered w3-border\">\n",
       " <thead class=\"w3-teal\"><th style=\"width:30%\">Neighbour</th><th>Flavour</th></thead>\n",
       " <tr><td>Pinot Gris</td><td>Like under-riped Chardonnay </td></tr>\n",
       " <tr><td>Semillion</td><td>Lighter with more lemon</td></tr>\n",
       " <tr><td>Viognier</td><td>More Vanilla, Flowers or Perfume</td></tr>\n",
       " </table>\n",
       " </div>\n",
       " <div class=\"w3-third\">\n",
       " <h1>Chardonnay</h1>\n",
       " <p>Chardonnay is the world's most popular wine grape.</p>\n",
       " <p>The taste of the Chardonnay grape is very neutral and easy to like.</p>\n",
       " <p>Many of the Chardonnay flavors are derived from terroir and oak-aging.</p>\n",
       " <p>The flavors varies from noticeable acidity (Cold Climates), to crisply and mineral (Chablis, France) \n",
       "   with flavors of green plum, apple and pear, to heavy oak and tropical fruit flavors (the New World). </p>\n",
       " <p>In cooler climates Chardonnay tends to be under-riped. </p>\n",
       " <p>In warmer climates the flavors tend to vary from lemon to peach and melon.</p>\n",
       " <p>In very warm climates Chardonnay tends to be over-riped.</p>\n",
       " <p>Oaked Chardonnay tends to have softer acidity and more fruit flavors with \n",
       "   added butter, cream and hazelnut notes.</p>\n",
       " </div>\n",
       " </div>,\n",
       " '\\n']"
      ]
     },
     "execution_count": 15,
     "metadata": {},
     "output_type": "execute_result"
    }
   ],
   "source": [
    "list(body.children)"
   ]
  },
  {
   "cell_type": "code",
   "execution_count": 18,
   "metadata": {
    "jupyter": {
     "outputs_hidden": true
    }
   },
   "outputs": [
    {
     "data": {
      "text/plain": [
       "['\\n',\n",
       " <div class=\"w3-twothird\">\n",
       " <img src=\"img_chardonnay.jpg\" style=\"width:100%\"/>\n",
       " <h2>Food</h2>\n",
       " <table class=\"w3-table w3-striped w3-bordered w3-border\">\n",
       " <thead class=\"w3-teal\"><th style=\"width:30%\">Food</th><th>Type</th></thead>\n",
       " <tr><td style=\"width:30%\">Seafood</td><td>Shrimps, Crab, Lobster</td></tr>\n",
       " <tr><td>Meat</td><td>Chicken, Pork</td></tr>\n",
       " <tr><td>Cheese</td><td>Brie, Gruyere</td></tr>\n",
       " <tr><td>Other</td><td>Cream sauces</td></tr>\n",
       " </table>\n",
       " <h2>Flavours</h2>\n",
       " <table class=\"w3-table w3-striped w3-bordered w3-border\">\n",
       " <thead class=\"w3-teal\"><th style=\"width:30%\">Age</th><th>Flavor</th></thead>\n",
       " <tr><td>Less Ripe</td><td>Green Plum, Green Apple, Pear </td></tr>\n",
       " <tr><td>Medium</td><td>Lemon, Peach, Melon</td></tr>\n",
       " <tr><td>More Ripe</td><td>Pineapple, Fig, Banana, Mango</td></tr>\n",
       " <tr><td>Oaked</td><td>added Cream or Butter</td></tr>\n",
       " </table>\n",
       " <h2>Neighbours</h2>\n",
       " <table class=\"w3-table w3-striped w3-bordered w3-border\">\n",
       " <thead class=\"w3-teal\"><th style=\"width:30%\">Neighbour</th><th>Flavour</th></thead>\n",
       " <tr><td>Pinot Gris</td><td>Like under-riped Chardonnay </td></tr>\n",
       " <tr><td>Semillion</td><td>Lighter with more lemon</td></tr>\n",
       " <tr><td>Viognier</td><td>More Vanilla, Flowers or Perfume</td></tr>\n",
       " </table>\n",
       " </div>,\n",
       " '\\n',\n",
       " <div class=\"w3-third\">\n",
       " <h1>Chardonnay</h1>\n",
       " <p>Chardonnay is the world's most popular wine grape.</p>\n",
       " <p>The taste of the Chardonnay grape is very neutral and easy to like.</p>\n",
       " <p>Many of the Chardonnay flavors are derived from terroir and oak-aging.</p>\n",
       " <p>The flavors varies from noticeable acidity (Cold Climates), to crisply and mineral (Chablis, France) \n",
       "   with flavors of green plum, apple and pear, to heavy oak and tropical fruit flavors (the New World). </p>\n",
       " <p>In cooler climates Chardonnay tends to be under-riped. </p>\n",
       " <p>In warmer climates the flavors tend to vary from lemon to peach and melon.</p>\n",
       " <p>In very warm climates Chardonnay tends to be over-riped.</p>\n",
       " <p>Oaked Chardonnay tends to have softer acidity and more fruit flavors with \n",
       "   added butter, cream and hazelnut notes.</p>\n",
       " </div>,\n",
       " '\\n']"
      ]
     },
     "execution_count": 18,
     "metadata": {},
     "output_type": "execute_result"
    }
   ],
   "source": [
    "div2 = list(body.children)[3]\n",
    "list(div2.children)"
   ]
  },
  {
   "cell_type": "code",
   "execution_count": 19,
   "metadata": {},
   "outputs": [
    {
     "data": {
      "text/plain": [
       "['\\n',\n",
       " <h1>Chardonnay</h1>,\n",
       " '\\n',\n",
       " <p>Chardonnay is the world's most popular wine grape.</p>,\n",
       " '\\n',\n",
       " <p>The taste of the Chardonnay grape is very neutral and easy to like.</p>,\n",
       " '\\n',\n",
       " <p>Many of the Chardonnay flavors are derived from terroir and oak-aging.</p>,\n",
       " '\\n',\n",
       " <p>The flavors varies from noticeable acidity (Cold Climates), to crisply and mineral (Chablis, France) \n",
       "   with flavors of green plum, apple and pear, to heavy oak and tropical fruit flavors (the New World). </p>,\n",
       " '\\n',\n",
       " <p>In cooler climates Chardonnay tends to be under-riped. </p>,\n",
       " '\\n',\n",
       " <p>In warmer climates the flavors tend to vary from lemon to peach and melon.</p>,\n",
       " '\\n',\n",
       " <p>In very warm climates Chardonnay tends to be over-riped.</p>,\n",
       " '\\n',\n",
       " <p>Oaked Chardonnay tends to have softer acidity and more fruit flavors with \n",
       "   added butter, cream and hazelnut notes.</p>,\n",
       " '\\n']"
      ]
     },
     "execution_count": 19,
     "metadata": {},
     "output_type": "execute_result"
    }
   ],
   "source": [
    "div2_2 = list(div2.children)[3]\n",
    "list(div2_2.children)"
   ]
  },
  {
   "cell_type": "code",
   "execution_count": 20,
   "metadata": {},
   "outputs": [
    {
     "name": "stdout",
     "output_type": "stream",
     "text": [
      "\n",
      "Chardonnay\n",
      "Chardonnay is the world's most popular wine grape.\n",
      "The taste of the Chardonnay grape is very neutral and easy to like.\n",
      "Many of the Chardonnay flavors are derived from terroir and oak-aging.\n",
      "The flavors varies from noticeable acidity (Cold Climates), to crisply and mineral (Chablis, France) \r\n",
      "  with flavors of green plum, apple and pear, to heavy oak and tropical fruit flavors (the New World). \n",
      "In cooler climates Chardonnay tends to be under-riped. \n",
      "In warmer climates the flavors tend to vary from lemon to peach and melon.\n",
      "In very warm climates Chardonnay tends to be over-riped.\n",
      "Oaked Chardonnay tends to have softer acidity and more fruit flavors with \r\n",
      "  added butter, cream and hazelnut notes.\n",
      "\n"
     ]
    }
   ],
   "source": [
    "print(div2_2.get_text())"
   ]
  },
  {
   "cell_type": "markdown",
   "metadata": {},
   "source": [
    "# Buscar todos los TAGs (p) automáticamente\n",
    "(para ver mas tag visitar [tags](https://developer.mozilla.org/en-US/docs/Web/HTML/Element))"
   ]
  },
  {
   "cell_type": "code",
   "execution_count": 21,
   "metadata": {},
   "outputs": [
    {
     "data": {
      "text/plain": [
       "[<p>Chardonnay is the world's most popular wine grape.</p>,\n",
       " <p>The taste of the Chardonnay grape is very neutral and easy to like.</p>,\n",
       " <p>Many of the Chardonnay flavors are derived from terroir and oak-aging.</p>,\n",
       " <p>The flavors varies from noticeable acidity (Cold Climates), to crisply and mineral (Chablis, France) \n",
       "   with flavors of green plum, apple and pear, to heavy oak and tropical fruit flavors (the New World). </p>,\n",
       " <p>In cooler climates Chardonnay tends to be under-riped. </p>,\n",
       " <p>In warmer climates the flavors tend to vary from lemon to peach and melon.</p>,\n",
       " <p>In very warm climates Chardonnay tends to be over-riped.</p>,\n",
       " <p>Oaked Chardonnay tends to have softer acidity and more fruit flavors with \n",
       "   added butter, cream and hazelnut notes.</p>]"
      ]
     },
     "execution_count": 21,
     "metadata": {},
     "output_type": "execute_result"
    }
   ],
   "source": [
    "soup = BeautifulSoup(page.content, 'html.parser')\n",
    "all_p = soup.find_all('p')\n",
    "all_p"
   ]
  },
  {
   "cell_type": "markdown",
   "metadata": {},
   "source": [
    "## Acceder a cada línea"
   ]
  },
  {
   "cell_type": "code",
   "execution_count": 24,
   "metadata": {},
   "outputs": [
    {
     "data": {
      "text/plain": [
       "\"Chardonnay is the world's most popular wine grape.\""
      ]
     },
     "execution_count": 24,
     "metadata": {},
     "output_type": "execute_result"
    }
   ],
   "source": [
    "all_p[0].get_text()"
   ]
  },
  {
   "cell_type": "markdown",
   "metadata": {},
   "source": [
    "## Concatenar todas las líneas"
   ]
  },
  {
   "cell_type": "code",
   "execution_count": 26,
   "metadata": {},
   "outputs": [
    {
     "name": "stdout",
     "output_type": "stream",
     "text": [
      "Chardonnay is the world's most popular wine grape.\n",
      "The taste of the Chardonnay grape is very neutral and easy to like.\n",
      "Many of the Chardonnay flavors are derived from terroir and oak-aging.\n",
      "The flavors varies from noticeable acidity (Cold Climates), to crisply and mineral (Chablis, France) \r\n",
      "  with flavors of green plum, apple and pear, to heavy oak and tropical fruit flavors (the New World). \n",
      "In cooler climates Chardonnay tends to be under-riped. \n",
      "In warmer climates the flavors tend to vary from lemon to peach and melon.\n",
      "In very warm climates Chardonnay tends to be over-riped.\n",
      "Oaked Chardonnay tends to have softer acidity and more fruit flavors with \r\n",
      "  added butter, cream and hazelnut notes.\n"
     ]
    }
   ],
   "source": [
    "lst_texto = [texto.get_text() for texto in all_p]\n",
    "print(\"\\n\".join(lst_texto))"
   ]
  },
  {
   "cell_type": "markdown",
   "metadata": {},
   "source": [
    "## Ejemplo de extraction de todos los links"
   ]
  },
  {
   "cell_type": "code",
   "execution_count": 27,
   "metadata": {},
   "outputs": [
    {
     "name": "stdout",
     "output_type": "stream",
     "text": [
      "tryw3css_examples_sauvignon_blanc.htm\n",
      "tryw3css_examples_sauvignon_blanc.htm\n"
     ]
    }
   ],
   "source": [
    "for link in soup.find_all('a'):\n",
    "    print(link.get('href'))"
   ]
  },
  {
   "cell_type": "markdown",
   "metadata": {},
   "source": [
    "## Mas información\n",
    "Para extraer mas tag mirar los ejemplos de la documentación de [Beautiful Soup](https://www.crummy.com/software/BeautifulSoup/bs4/doc/)"
   ]
  },
  {
   "cell_type": "markdown",
   "metadata": {},
   "source": [
    "# Extracción infomración página de clima"
   ]
  },
  {
   "cell_type": "code",
   "execution_count": 29,
   "metadata": {},
   "outputs": [],
   "source": [
    "enlace = 'https://forecast.weather.gov/MapClick.php?lat=40.7146&lon=-74.0071#.X4zKlO222Mp'"
   ]
  },
  {
   "cell_type": "code",
   "execution_count": 34,
   "metadata": {},
   "outputs": [
    {
     "name": "stdout",
     "output_type": "stream",
     "text": [
      "<div class=\"tombstone-container\">\n",
      " <p class=\"period-name\">\n",
      "  Monday\n",
      "  <br/>\n",
      "  Night\n",
      " </p>\n",
      " <p>\n",
      "  <img alt=\"Monday Night: Mostly cloudy, with a low around 57. Southeast wind around 7 mph. \" class=\"forecast-icon\" src=\"newimages/medium/nbkn.png\" title=\"Monday Night: Mostly cloudy, with a low around 57. Southeast wind around 7 mph. \"/>\n",
      " </p>\n",
      " <p class=\"short-desc\">\n",
      "  Mostly Cloudy\n",
      " </p>\n",
      " <p class=\"temp temp-low\">\n",
      "  Low: 57 °F\n",
      " </p>\n",
      "</div>\n"
     ]
    }
   ],
   "source": [
    "# Se accede a la página\n",
    "page = requests.get(enlace)\n",
    "\n",
    "# Se guarda en formato legible\n",
    "soup = BeautifulSoup(page.content, 'html.parser')\n",
    "\n",
    "# Luego de ubicar el id es posible acceder directamente\n",
    "seven_day = soup.find(id=\"seven-day-forecast\")\n",
    "# Ubicado en \"seven-day-forecast\" se extraen todos los \"tombstone-container\"\n",
    "forecast_items = seven_day.find_all(class_=\"tombstone-container\")\n",
    "\n",
    "# Ejemplo el 3 elemento \"Monday Night\"\n",
    "Monday_Night = forecast_items[2]\n",
    "print(Monday_Night.prettify())"
   ]
  },
  {
   "cell_type": "markdown",
   "metadata": {},
   "source": [
    "## Ejemplo extraer para Monday_Night"
   ]
  },
  {
   "cell_type": "code",
   "execution_count": 35,
   "metadata": {},
   "outputs": [
    {
     "name": "stdout",
     "output_type": "stream",
     "text": [
      "MondayNight\n",
      "Mostly Cloudy\n",
      "Low: 57 °F\n"
     ]
    }
   ],
   "source": [
    "period = Monday_Night.find(class_=\"period-name\").get_text()\n",
    "short_desc = Monday_Night.find(class_=\"short-desc\").get_text()\n",
    "temp = Monday_Night.find(class_=\"temp\").get_text()\n",
    "print(period)\n",
    "print(short_desc)\n",
    "print(temp)"
   ]
  },
  {
   "cell_type": "markdown",
   "metadata": {},
   "source": [
    "## Para extraer todos los valores de Extended Forcast"
   ]
  },
  {
   "cell_type": "code",
   "execution_count": null,
   "metadata": {},
   "outputs": [],
   "source": []
  }
 ],
 "metadata": {
  "hide_input": false,
  "kernelspec": {
   "display_name": "Python 3",
   "language": "python",
   "name": "python3"
  },
  "language_info": {
   "codemirror_mode": {
    "name": "ipython",
    "version": 3
   },
   "file_extension": ".py",
   "mimetype": "text/x-python",
   "name": "python",
   "nbconvert_exporter": "python",
   "pygments_lexer": "ipython3",
   "version": "3.8.3"
  },
  "toc": {
   "base_numbering": 1,
   "nav_menu": {},
   "number_sections": true,
   "sideBar": true,
   "skip_h1_title": false,
   "title_cell": "Table of Contents",
   "title_sidebar": "Contents",
   "toc_cell": false,
   "toc_position": {},
   "toc_section_display": true,
   "toc_window_display": false
  },
  "varInspector": {
   "cols": {
    "lenName": 16,
    "lenType": 16,
    "lenVar": 40
   },
   "kernels_config": {
    "python": {
     "delete_cmd_postfix": "",
     "delete_cmd_prefix": "del ",
     "library": "var_list.py",
     "varRefreshCmd": "print(var_dic_list())"
    },
    "r": {
     "delete_cmd_postfix": ") ",
     "delete_cmd_prefix": "rm(",
     "library": "var_list.r",
     "varRefreshCmd": "cat(var_dic_list()) "
    }
   },
   "types_to_exclude": [
    "module",
    "function",
    "builtin_function_or_method",
    "instance",
    "_Feature"
   ],
   "window_display": false
  }
 },
 "nbformat": 4,
 "nbformat_minor": 4
}
